{
 "cells": [
  {
   "cell_type": "code",
   "execution_count": 1,
   "id": "00da29a1",
   "metadata": {},
   "outputs": [],
   "source": [
    "import os\n",
    "import pandas as pd\n",
    "import numpy as np"
   ]
  },
  {
   "cell_type": "code",
   "execution_count": 2,
   "id": "22f5412a",
   "metadata": {},
   "outputs": [],
   "source": [
    "fpath = \"./problems/MiniGroceryStore/MiniGroceryStore.csv\"\n",
    "df = pd.read_csv(fpath)"
   ]
  },
  {
   "cell_type": "code",
   "execution_count": 4,
   "id": "31eb83f2",
   "metadata": {},
   "outputs": [],
   "source": [
    "values, bins = np.unique(df[\"sum\"], return_counts=True)"
   ]
  },
  {
   "cell_type": "code",
   "execution_count": 5,
   "id": "bd5ccaae",
   "metadata": {},
   "outputs": [
    {
     "name": "stdout",
     "output_type": "stream",
     "text": [
      "0 62\n",
      "1 1\n",
      "2 5\n",
      "4 15\n",
      "5 3\n",
      "6 1\n",
      "7 4\n"
     ]
    }
   ],
   "source": [
    "for score, count in zip(values, bins):\n",
    "    print(score, count)"
   ]
  },
  {
   "cell_type": "code",
   "execution_count": null,
   "id": "ab4e1d27",
   "metadata": {},
   "outputs": [],
   "source": []
  }
 ],
 "metadata": {
  "kernelspec": {
   "display_name": "venv",
   "language": "python",
   "name": "python3"
  },
  "language_info": {
   "codemirror_mode": {
    "name": "ipython",
    "version": 3
   },
   "file_extension": ".py",
   "mimetype": "text/x-python",
   "name": "python",
   "nbconvert_exporter": "python",
   "pygments_lexer": "ipython3",
   "version": "3.11.7"
  }
 },
 "nbformat": 4,
 "nbformat_minor": 5
}
